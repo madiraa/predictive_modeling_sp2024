{
 "cells": [
  {
   "cell_type": "code",
   "execution_count": 58,
   "metadata": {},
   "outputs": [],
   "source": [
    "import pandas as pd\n",
    "from deep_translator import GoogleTranslator"
   ]
  },
  {
   "cell_type": "code",
   "execution_count": 59,
   "metadata": {},
   "outputs": [],
   "source": [
    "# Read your CSV file\n",
    "df = pd.read_csv('Chatham House - Belarus - XVIII.xlsx - CTHw16_social contract_weights_.csv')\n",
    "\n",
    "# Initialize the translator\n",
    "translator = GoogleTranslator(source='ru', target='en')\n",
    "\n",
    "# Translate the column names and store them in a list\n",
    "translated_column_names = []\n",
    "for col in df.columns:\n",
    "    translated_column_names.append(translator.translate(col))\n",
    "\n",
    "# Create a dictionary to map original column names to translated column names\n",
    "translation_dict = dict(zip(df.columns, translated_column_names))\n",
    "\n",
    "# Rename the columns using the translation dictionary\n",
    "df_translated = df.rename(columns=translation_dict)\n",
    "\n",
    "# Save the translated DataFrame to CSV, with the og rows of data \n",
    "df_translated.to_csv('translated_dataframe.csv', index=False)"
   ]
  },
  {
   "cell_type": "code",
   "execution_count": 62,
   "metadata": {},
   "outputs": [
    {
     "name": "stdout",
     "output_type": "stream",
     "text": [
      "Index(['Response ID', 'Date Submitted', 'Status', 'Length of Interview',\n",
      "       'In which country have you been living permanently for the last six months?',\n",
      "       'Select the region in which you have lived for the last six months. If you live in Minsk, select Minsk',\n",
      "       'Indicate the city where you live?',\n",
      "       'Indicate the city where you live?.1',\n",
      "       'Indicate the city where you live?.2',\n",
      "       'Indicate the city where you live?.3',\n",
      "       ...\n",
      "       'Segments by degree of adoption (three main groups)',\n",
      "       'Segments by degree of adoption (with pensioners highlighted)', 'Total',\n",
      "       'Sum of points based on the degree of contract acceptance - without contract system',\n",
      "       'Segments by degree of adoption (three main groups) - without contract system',\n",
      "       'Segments by degree of acceptance (with pensioners highlighted) - without contract system',\n",
      "       'Education level', 'Income per person (grouping)', 'Family status',\n",
      "       'Internet using'],\n",
      "      dtype='object', length=453)\n"
     ]
    }
   ],
   "source": [
    "# Print the column names\n",
    "print(df_translated.columns)"
   ]
  },
  {
   "cell_type": "code",
   "execution_count": null,
   "metadata": {},
   "outputs": [],
   "source": []
  }
 ],
 "metadata": {
  "kernelspec": {
   "display_name": ".venv",
   "language": "python",
   "name": "python3"
  },
  "language_info": {
   "codemirror_mode": {
    "name": "ipython",
    "version": 3
   },
   "file_extension": ".py",
   "mimetype": "text/x-python",
   "name": "python",
   "nbconvert_exporter": "python",
   "pygments_lexer": "ipython3",
   "version": "3.9.6"
  }
 },
 "nbformat": 4,
 "nbformat_minor": 2
}
